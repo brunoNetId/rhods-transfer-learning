{
 "cells": [
  {
   "cell_type": "markdown",
   "id": "d8903d16-e32b-4d0f-bf68-5be8dee11dd9",
   "metadata": {},
   "source": [
    "# Define S3 client"
   ]
  },
  {
   "cell_type": "code",
   "execution_count": null,
   "id": "6958afe3-e68a-49ff-8583-8e1276aede1f",
   "metadata": {},
   "outputs": [],
   "source": [
    "import os\n",
    "\n",
    "s3endpoint = os.environ['s3endpoint']\n",
    "# s3bucket = os.environ['s3bucket']\n",
    "mount_path = os.environ['mount_path']"
   ]
  },
  {
   "cell_type": "code",
   "execution_count": 7,
   "id": "e2a0264a-d19e-4c8a-8669-d9e462a79275",
   "metadata": {},
   "outputs": [],
   "source": [
    "import os\n",
    "import boto3\n",
    "from botocore.client import Config\n",
    "\n",
    "# s3_client = boto3.client('s3',\n",
    "#         # endpoint_url='https://minio-api-test02.apps.rhods-internal.61tk.p1.openshiftapps.com',\n",
    "#         endpoint_url='https://minio-api-test03.apps.rhods-internal.61tk.p1.openshiftapps.com',\n",
    "#         aws_access_key_id='minio',\n",
    "#         aws_secret_access_key='minio123',\n",
    "#         config=Config(signature_version='s3v4'),\n",
    "#         region_name='us-east-1')\n",
    "\n",
    "# s3endpoint='https://minio-api-test02.apps.rhods-internal.61tk.p1.openshiftapps.com',\n",
    "# s3endpoint = \"https://minio-api-demo-ai.apps.cluster-ssfg4.dynamic.opentlc.com\"\n",
    "# s3bucket = \"production\"\n",
    "s3bucket = \"pre-production\"\n",
    "\n",
    "\n",
    "s3_client = boto3.client('s3',\n",
    "        endpoint_url=s3endpoint,\n",
    "        aws_access_key_id='minio',\n",
    "        aws_secret_access_key='minio123',\n",
    "        config=Config(signature_version='s3v4'),\n",
    "        region_name='us-east-1')\n",
    "\n",
    "      "
   ]
  },
  {
   "cell_type": "markdown",
   "id": "1b897d31-43f6-4b83-b719-6f326504f32a",
   "metadata": {},
   "source": [
    "# Clear bucket"
   ]
  },
  {
   "cell_type": "code",
   "execution_count": 8,
   "id": "1fc6be46-611e-4c67-afe7-12b962626e63",
   "metadata": {},
   "outputs": [
    {
     "name": "stdout",
     "output_type": "stream",
     "text": [
      "removing contents\n",
      "{'Key': 'models/tea_model_b64/1/fingerprint.pb', 'LastModified': datetime.datetime(2023, 12, 14, 14, 8, 7, 725000, tzinfo=tzlocal()), 'ETag': '\"88af44942145a6db3c820ee012697b6e\"', 'Size': 55, 'StorageClass': 'STANDARD'}\n",
      "{'Key': 'models/tea_model_b64/1/saved_model.pb', 'LastModified': datetime.datetime(2023, 12, 14, 14, 8, 5, 679000, tzinfo=tzlocal()), 'ETag': '\"aeb7580fe3ac50ce925ab45366a49b2e\"', 'Size': 4241279, 'StorageClass': 'STANDARD'}\n",
      "{'Key': 'models/tea_model_b64/1/variables/variables.data-00000-of-00001', 'LastModified': datetime.datetime(2023, 12, 14, 14, 8, 8, 559000, tzinfo=tzlocal()), 'ETag': '\"c7a55f4037d1fca4780f337ae9d84947-2\"', 'Size': 9217730, 'StorageClass': 'STANDARD'}\n",
      "{'Key': 'models/tea_model_b64/1/variables/variables.index', 'LastModified': datetime.datetime(2023, 12, 14, 14, 8, 7, 801000, tzinfo=tzlocal()), 'ETag': '\"01a9b50e250d25d47f43cf3211ee7dfe\"', 'Size': 15472, 'StorageClass': 'STANDARD'}\n"
     ]
    }
   ],
   "source": [
    "  \n",
    "# objects = s3_client.list_objects_v2(Bucket='production')\n",
    "objects = s3_client.list_objects_v2(Bucket=s3bucket)\n",
    "\n",
    "\n",
    "\n",
    "# print(objects)\n",
    "\n",
    "if \"Contents\" in objects:\n",
    "    print(\"removing contents\")\n",
    "    remove = {\"Objects\": []}\n",
    "    for obj in objects['Contents']:\n",
    "        print(obj)\n",
    "        remove['Objects'].append({'Key':obj['Key']})\n",
    "    s3_client.delete_objects(Bucket=s3bucket, Delete=remove)\n",
    "\n",
    "else:\n",
    "    print(\"there are NO contents\")"
   ]
  },
  {
   "cell_type": "markdown",
   "id": "526066d2-0a36-46fa-900d-14c9b6a8f0ab",
   "metadata": {},
   "source": [
    "# Upload model"
   ]
  },
  {
   "cell_type": "code",
   "execution_count": 9,
   "id": "2b0b2a6b-aa37-4ab5-938b-b31f9bc3238b",
   "metadata": {},
   "outputs": [
    {
     "name": "stdout",
     "output_type": "stream",
     "text": [
      "models/tea_model_b64/1/saved_model.pb\n",
      "models/tea_model_b64/1/fingerprint.pb\n",
      "models/tea_model_b64/1/variables/variables.index\n",
      "models/tea_model_b64/1/variables/variables.data-00000-of-00001\n"
     ]
    }
   ],
   "source": [
    "# path = \"models/tea_model_b64\"\n",
    "path = mount_path+\"models/tea_model_b64\"\n",
    "\n",
    "for subdir, dirs, files in os.walk(path):\n",
    "    for file in files:\n",
    "        full_path = os.path.join(subdir, file)\n",
    "        s3_path = os.path.join(subdir.removeprefix(mount_path), file)\n",
    "        print(s3_path)\n",
    "        s3_client.upload_file(full_path, s3bucket, s3_path)\n",
    "        "
   ]
  },
  {
   "cell_type": "code",
   "execution_count": null,
   "id": "39cf8024-23f3-4c2a-8cdf-1a450ecf9076",
   "metadata": {},
   "outputs": [],
   "source": []
  }
 ],
 "metadata": {
  "colab": {
   "name": "Alpaca image classifier.ipynb",
   "provenance": []
  },
  "kernelspec": {
   "display_name": "Python 3.9",
   "language": "python",
   "name": "python3"
  },
  "language_info": {
   "codemirror_mode": {
    "name": "ipython",
    "version": 3
   },
   "file_extension": ".py",
   "mimetype": "text/x-python",
   "name": "python",
   "nbconvert_exporter": "python",
   "pygments_lexer": "ipython3",
   "version": "3.9.16"
  }
 },
 "nbformat": 4,
 "nbformat_minor": 5
}
