{
 "cells": [
  {
   "cell_type": "markdown",
   "id": "d8903d16-e32b-4d0f-bf68-5be8dee11dd9",
   "metadata": {},
   "source": [
    "# Define S3 client"
   ]
  },
  {
   "cell_type": "code",
   "execution_count": null,
   "id": "6958afe3-e68a-49ff-8583-8e1276aede1f",
   "metadata": {},
   "outputs": [],
   "source": [
    "import os\n",
    "\n",
    "s3endpoint = os.environ['s3endpoint']\n",
    "# s3bucket = os.environ['s3bucket_models']\n",
    "bucket_models = os.environ['s3bucket_models']\n",
    "bucket_ready  = os.environ['s3bucket_ready']\n",
    "mount_path = os.environ['working_dir']"
   ]
  },
  {
   "cell_type": "code",
   "execution_count": 2,
   "id": "e2a0264a-d19e-4c8a-8669-d9e462a79275",
   "metadata": {},
   "outputs": [],
   "source": [
    "import os\n",
    "import boto3\n",
    "from botocore.client import Config\n",
    "\n",
    "# s3_client = boto3.client('s3',\n",
    "#         # endpoint_url='https://minio-api-test02.apps.rhods-internal.61tk.p1.openshiftapps.com',\n",
    "#         endpoint_url='https://minio-api-test03.apps.rhods-internal.61tk.p1.openshiftapps.com',\n",
    "#         aws_access_key_id='minio',\n",
    "#         aws_secret_access_key='minio123',\n",
    "#         config=Config(signature_version='s3v4'),\n",
    "#         region_name='us-east-1')\n",
    "\n",
    "# s3endpoint = \"https://minio-api-central.apps.cluster-2lngl.sandbox1314.opentlc.com\"\n",
    "# s3bucket = \"production\"\n",
    "\n",
    "\n",
    "s3_client = boto3.client('s3',\n",
    "        endpoint_url=s3endpoint,\n",
    "        aws_access_key_id='minio',\n",
    "        aws_secret_access_key='minio123',\n",
    "        config=Config(signature_version='s3v4'),\n",
    "        region_name='us-east-1')\n",
    "\n",
    "      "
   ]
  },
  {
   "cell_type": "markdown",
   "id": "1b897d31-43f6-4b83-b719-6f326504f32a",
   "metadata": {},
   "source": [
    "# Calculate next version"
   ]
  },
  {
   "cell_type": "code",
   "execution_count": 26,
   "id": "327cd5f4-8894-4510-aa4b-dc41c1180d3e",
   "metadata": {},
   "outputs": [
    {
     "name": "stdout",
     "output_type": "stream",
     "text": [
      "models/tea_model_b64/1/fingerprint.pb\n",
      "models/tea_model_b64/1/saved_model.pb\n",
      "models/tea_model_b64/1/variables/variables.data-00000-of-00001\n",
      "models/tea_model_b64/1/variables/variables.index\n",
      "models/tea_model_b64/5/fingerprint.pb\n",
      "models/tea_model_b64/5/saved_model.pb\n",
      "models/tea_model_b64/5/variables/variables.data-00000-of-00001\n",
      "models/tea_model_b64/5/variables/variables.index\n"
     ]
    },
    {
     "data": {
      "text/plain": [
       "6"
      ]
     },
     "execution_count": 26,
     "metadata": {},
     "output_type": "execute_result"
    }
   ],
   "source": [
    "objects = s3_client.list_objects_v2(Bucket=bucket_models)\n",
    "\n",
    "version = 0\n",
    "\n",
    "if \"Contents\" in objects:\n",
    "    for obj in objects['Contents']:\n",
    "        print(obj['Key'])\n",
    "        s3version = int(obj['Key'].split('/')[2])\n",
    "        if s3version > version:\n",
    "            version = s3version\n",
    "else:\n",
    "    print(\"there are NO contents\")\n",
    "    \n",
    "version += 1\n",
    "version"
   ]
  },
  {
   "cell_type": "markdown",
   "id": "526066d2-0a36-46fa-900d-14c9b6a8f0ab",
   "metadata": {},
   "source": [
    "# Push model to Repository"
   ]
  },
  {
   "cell_type": "code",
   "execution_count": 20,
   "id": "2b0b2a6b-aa37-4ab5-938b-b31f9bc3238b",
   "metadata": {},
   "outputs": [],
   "source": [
    "# path = \"models/tea_model_b64\"\n",
    "path = mount_path+\"models/tea_model_b64\"\n",
    "\n",
    "for subdir, dirs, files in os.walk(path):\n",
    "    for file in files:\n",
    "        full_path = os.path.join(subdir, file)\n",
    "        s3_path = os.path.join(subdir.removeprefix(mount_path), file)\n",
    "        s3_path = s3_path.replace(\"/1/\",\"/\"+str(version)+\"/\")\n",
    "        print(s3_path)\n",
    "        s3_client.upload_file(full_path, bucket_models, s3_path)\n",
    "        "
   ]
  },
  {
   "cell_type": "markdown",
   "id": "89aed352-f3c1-4666-b94a-756caa271578",
   "metadata": {},
   "source": [
    "# Push model for (edge) collection"
   ]
  },
  {
   "cell_type": "code",
   "execution_count": 20,
   "id": "84b6d31d-e1b7-4381-92ca-69a3e2ee35c4",
   "metadata": {},
   "outputs": [],
   "source": [
    "# path = \"models/tea_model_b64\"\n",
    "path = mount_path+\"models/tea_model_b64\"\n",
    "\n",
    "for subdir, dirs, files in os.walk(path, topdown=False):\n",
    "    for file in files:\n",
    "        full_path = os.path.join(subdir, file)\n",
    "        s3_path = os.path.join(subdir.removeprefix(mount_path), file)\n",
    "        s3_path = s3_path.replace(\"/1/\",\"/\"+str(version)+\"/\")\n",
    "        print(s3_path)\n",
    "        s3_client.upload_file(full_path, bucket_ready,  s3_path)\n",
    "        "
   ]
  }
 ],
 "metadata": {
  "colab": {
   "name": "Alpaca image classifier.ipynb",
   "provenance": []
  },
  "kernelspec": {
   "display_name": "Python 3.9",
   "language": "python",
   "name": "python3"
  },
  "language_info": {
   "codemirror_mode": {
    "name": "ipython",
    "version": 3
   },
   "file_extension": ".py",
   "mimetype": "text/x-python",
   "name": "python",
   "nbconvert_exporter": "python",
   "pygments_lexer": "ipython3",
   "version": "3.9.18"
  }
 },
 "nbformat": 4,
 "nbformat_minor": 5
}
